{
  "nbformat": 4,
  "nbformat_minor": 0,
  "metadata": {
    "colab": {
      "provenance": [],
      "gpuType": "T4"
    },
    "kernelspec": {
      "name": "python3",
      "display_name": "Python 3"
    },
    "language_info": {
      "name": "python"
    },
    "accelerator": "GPU",
    "gpuClass": "standard"
  },
  "cells": [
    {
      "cell_type": "markdown",
      "source": [
        "# 로이터 데이터셋을 이용한 Multi Class Classfication\n",
        "* Activation Function = Input/Hidden Layer -> ReLU,  Output Layer -> Softmax\n",
        "- Loss Function = Categorical Crossentropy\n",
        "---\n",
        "* 로이터에서 발행한 뉴스 기사를 46개의 주제로 분류하기 위해서 데이터셋을 학습 데이터와 테스트 데이터로 나누고 \n"
      ],
      "metadata": {
        "id": "NhlFvu6UWf9D"
      }
    },
    {
      "cell_type": "code",
      "source": [
        "# 로이터 데이터셋을 불러오고 학습용 데이터와 테스트 데이터 분류\n",
        "from keras.datasets import reuters\n",
        "(train_data, train_labels), (test_data, test_labels) = reuters.load_data(num_words=10000)"
      ],
      "metadata": {
        "colab": {
          "base_uri": "https://localhost:8080/"
        },
        "id": "68po9axvX5IC",
        "outputId": "2b8c44ee-df76-49dd-c314-46d11c6b14e3"
      },
      "execution_count": 2,
      "outputs": [
        {
          "output_type": "stream",
          "name": "stdout",
          "text": [
            "Downloading data from https://storage.googleapis.com/tensorflow/tf-keras-datasets/reuters.npz\n",
            "2110848/2110848 [==============================] - 0s 0us/step\n"
          ]
        }
      ]
    },
    {
      "cell_type": "code",
      "source": [
        "# 데이터 형태 확인\n",
        "print(train_data.shape)\n",
        "print(test_data.shape)"
      ],
      "metadata": {
        "colab": {
          "base_uri": "https://localhost:8080/"
        },
        "id": "PeD1kksgYI8c",
        "outputId": "1e83d22f-6b7c-4c01-add3-beb94d05dfb2"
      },
      "execution_count": 3,
      "outputs": [
        {
          "output_type": "stream",
          "name": "stdout",
          "text": [
            "(8982,)\n",
            "(2246,)\n"
          ]
        }
      ]
    },
    {
      "cell_type": "code",
      "source": [
        "train_data[0]"
      ],
      "metadata": {
        "colab": {
          "base_uri": "https://localhost:8080/"
        },
        "id": "gwub-ZZQYqV3",
        "outputId": "19febf19-05b6-4f70-e9b5-b773071b9c42"
      },
      "execution_count": 4,
      "outputs": [
        {
          "output_type": "execute_result",
          "data": {
            "text/plain": [
              "[1,\n",
              " 2,\n",
              " 2,\n",
              " 8,\n",
              " 43,\n",
              " 10,\n",
              " 447,\n",
              " 5,\n",
              " 25,\n",
              " 207,\n",
              " 270,\n",
              " 5,\n",
              " 3095,\n",
              " 111,\n",
              " 16,\n",
              " 369,\n",
              " 186,\n",
              " 90,\n",
              " 67,\n",
              " 7,\n",
              " 89,\n",
              " 5,\n",
              " 19,\n",
              " 102,\n",
              " 6,\n",
              " 19,\n",
              " 124,\n",
              " 15,\n",
              " 90,\n",
              " 67,\n",
              " 84,\n",
              " 22,\n",
              " 482,\n",
              " 26,\n",
              " 7,\n",
              " 48,\n",
              " 4,\n",
              " 49,\n",
              " 8,\n",
              " 864,\n",
              " 39,\n",
              " 209,\n",
              " 154,\n",
              " 6,\n",
              " 151,\n",
              " 6,\n",
              " 83,\n",
              " 11,\n",
              " 15,\n",
              " 22,\n",
              " 155,\n",
              " 11,\n",
              " 15,\n",
              " 7,\n",
              " 48,\n",
              " 9,\n",
              " 4579,\n",
              " 1005,\n",
              " 504,\n",
              " 6,\n",
              " 258,\n",
              " 6,\n",
              " 272,\n",
              " 11,\n",
              " 15,\n",
              " 22,\n",
              " 134,\n",
              " 44,\n",
              " 11,\n",
              " 15,\n",
              " 16,\n",
              " 8,\n",
              " 197,\n",
              " 1245,\n",
              " 90,\n",
              " 67,\n",
              " 52,\n",
              " 29,\n",
              " 209,\n",
              " 30,\n",
              " 32,\n",
              " 132,\n",
              " 6,\n",
              " 109,\n",
              " 15,\n",
              " 17,\n",
              " 12]"
            ]
          },
          "metadata": {},
          "execution_count": 4
        }
      ]
    },
    {
      "cell_type": "code",
      "source": [
        "# results라는 배열을 만들어 데이터에서 글자가 있는 데이터를 벡터로 변환하는 과정을 함수로 만들기\n",
        "import numpy as np\n",
        "\n",
        "def vectorize_sequences(sequences, dimension=10000):\n",
        "  results = np.zeros((len(sequences), dimension))\n",
        "\n",
        "  for i, sequence in enumerate(sequences):\n",
        "    results[i, sequence] = 1\n",
        "\n",
        "  return results"
      ],
      "metadata": {
        "id": "MznBHSD1Yqa2"
      },
      "execution_count": 5,
      "outputs": []
    },
    {
      "cell_type": "code",
      "source": [
        "# 학습용 데이터와 테스트 데이터의 벡터 변환\n",
        "x_train = vectorize_sequences(train_data)\n",
        "x_test = vectorize_sequences(test_data)"
      ],
      "metadata": {
        "id": "UBDtG_uGYqhg"
      },
      "execution_count": 6,
      "outputs": []
    },
    {
      "cell_type": "code",
      "source": [
        "# 라벨 데이터를 카테고리 데이터로 전환\n",
        "from keras.utils.np_utils import to_categorical\n",
        "\n",
        "one_hot_train_labels = to_categorical(train_labels)\n",
        "one_hot_test_labels = to_categorical(test_labels)"
      ],
      "metadata": {
        "id": "PaAbizXvZ8hA"
      },
      "execution_count": 7,
      "outputs": []
    },
    {
      "cell_type": "code",
      "source": [
        "# 모델(신경망) 구성\n",
        "# Dense layer를 추가해주는데 유닛의 개수는 64개, 출력층에는 출력 결과가 46개이기 때문에 46개의 유닛 지정\n",
        "# 입력 데이터의 형태는 10000개 column의 배열 형태로 지정\n",
        "# 출력 결과는 46개의 벡터 중 하나가 선택이 된다. \n",
        "from keras import models\n",
        "from keras import layers\n",
        "\n",
        "model = models.Sequential()\n",
        "model.add(layers.Dense(64, activation='relu', input_shape=(10000, )))\n",
        "model.add(layers.Dense(64, activation='relu'))\n",
        "model.add(layers.Dense(46, activation='softmax'))"
      ],
      "metadata": {
        "id": "09hR5eMwaUX4"
      },
      "execution_count": 8,
      "outputs": []
    },
    {
      "cell_type": "code",
      "source": [
        "# Model Compile\n",
        "model.compile(optimizer='rmsprop', loss='categorical_crossentropy', metrics=['accuracy'])"
      ],
      "metadata": {
        "id": "c-hqlzBtYqmS"
      },
      "execution_count": 9,
      "outputs": []
    },
    {
      "cell_type": "code",
      "source": [
        "# 데이터를 쪼개서 학습, 검증, 시험용 데이터 만들기\n",
        "# 검증용 데이터는 1000건 정도만 사용계획\n",
        "x_val = x_train[:1000]\n",
        "partial_x_train = x_train[1000:]\n",
        "y_val = one_hot_train_labels[:1000]\n",
        "partial_y_train = one_hot_train_labels[1000:]"
      ],
      "metadata": {
        "id": "T5Is9EkZdHU_"
      },
      "execution_count": 10,
      "outputs": []
    },
    {
      "cell_type": "code",
      "source": [
        "# 모델 학습시키기, 실행결과는 변수에 저장\n",
        "history = model.fit(partial_x_train, partial_y_train, epochs=20, batch_size=1024, validation_data=(x_val, y_val))"
      ],
      "metadata": {
        "colab": {
          "base_uri": "https://localhost:8080/"
        },
        "id": "ebVj7hXqeE1R",
        "outputId": "81fbbee2-4a16-4c2c-a47a-98970ee89137"
      },
      "execution_count": 11,
      "outputs": [
        {
          "output_type": "stream",
          "name": "stdout",
          "text": [
            "Epoch 1/20\n",
            "8/8 [==============================] - 3s 262ms/step - loss: 3.2210 - accuracy: 0.4406 - val_loss: 2.4445 - val_accuracy: 0.5570\n",
            "Epoch 2/20\n",
            "8/8 [==============================] - 2s 240ms/step - loss: 2.0851 - accuracy: 0.6159 - val_loss: 1.8205 - val_accuracy: 0.6230\n",
            "Epoch 3/20\n",
            "8/8 [==============================] - 1s 131ms/step - loss: 1.6080 - accuracy: 0.6749 - val_loss: 1.5166 - val_accuracy: 0.6640\n",
            "Epoch 4/20\n",
            "8/8 [==============================] - 1s 129ms/step - loss: 1.3495 - accuracy: 0.7080 - val_loss: 1.3472 - val_accuracy: 0.7080\n",
            "Epoch 5/20\n",
            "8/8 [==============================] - 1s 117ms/step - loss: 1.1617 - accuracy: 0.7507 - val_loss: 1.2292 - val_accuracy: 0.7260\n",
            "Epoch 6/20\n",
            "8/8 [==============================] - 1s 113ms/step - loss: 1.0252 - accuracy: 0.7840 - val_loss: 1.1567 - val_accuracy: 0.7460\n",
            "Epoch 7/20\n",
            "8/8 [==============================] - 1s 126ms/step - loss: 0.9189 - accuracy: 0.8036 - val_loss: 1.0938 - val_accuracy: 0.7660\n",
            "Epoch 8/20\n",
            "8/8 [==============================] - 1s 124ms/step - loss: 0.8271 - accuracy: 0.8220 - val_loss: 1.0606 - val_accuracy: 0.7570\n",
            "Epoch 9/20\n",
            "8/8 [==============================] - 1s 187ms/step - loss: 0.7443 - accuracy: 0.8408 - val_loss: 1.0071 - val_accuracy: 0.7770\n",
            "Epoch 10/20\n",
            "8/8 [==============================] - 1s 191ms/step - loss: 0.6625 - accuracy: 0.8584 - val_loss: 0.9773 - val_accuracy: 0.7780\n",
            "Epoch 11/20\n",
            "8/8 [==============================] - 1s 116ms/step - loss: 0.6066 - accuracy: 0.8668 - val_loss: 0.9492 - val_accuracy: 0.7940\n",
            "Epoch 12/20\n",
            "8/8 [==============================] - 1s 108ms/step - loss: 0.5389 - accuracy: 0.8837 - val_loss: 0.9269 - val_accuracy: 0.8020\n",
            "Epoch 13/20\n",
            "8/8 [==============================] - 1s 105ms/step - loss: 0.4837 - accuracy: 0.8989 - val_loss: 0.9125 - val_accuracy: 0.7930\n",
            "Epoch 14/20\n",
            "8/8 [==============================] - 1s 110ms/step - loss: 0.4428 - accuracy: 0.9072 - val_loss: 0.9043 - val_accuracy: 0.8000\n",
            "Epoch 15/20\n",
            "8/8 [==============================] - 1s 108ms/step - loss: 0.3949 - accuracy: 0.9142 - val_loss: 0.8885 - val_accuracy: 0.8120\n",
            "Epoch 16/20\n",
            "8/8 [==============================] - 1s 108ms/step - loss: 0.3540 - accuracy: 0.9248 - val_loss: 0.8934 - val_accuracy: 0.7970\n",
            "Epoch 17/20\n",
            "8/8 [==============================] - 1s 110ms/step - loss: 0.3213 - accuracy: 0.9301 - val_loss: 0.8893 - val_accuracy: 0.8010\n",
            "Epoch 18/20\n",
            "8/8 [==============================] - 1s 112ms/step - loss: 0.2944 - accuracy: 0.9365 - val_loss: 0.8967 - val_accuracy: 0.8020\n",
            "Epoch 19/20\n",
            "8/8 [==============================] - 1s 121ms/step - loss: 0.2681 - accuracy: 0.9419 - val_loss: 0.9148 - val_accuracy: 0.8010\n",
            "Epoch 20/20\n",
            "8/8 [==============================] - 1s 110ms/step - loss: 0.2456 - accuracy: 0.9468 - val_loss: 0.9179 - val_accuracy: 0.7970\n"
          ]
        }
      ]
    },
    {
      "cell_type": "code",
      "source": [
        "# 시각화\n",
        "import matplotlib.pyplot as plt\n",
        "\n",
        "loss = history.history['loss']\n",
        "acc = history.history['accuracy']\n",
        "val_loss = history.history['val_loss']\n",
        "val_acc = history.history['val_accuracy']"
      ],
      "metadata": {
        "id": "wfZlyH3FewAU"
      },
      "execution_count": 12,
      "outputs": []
    },
    {
      "cell_type": "code",
      "source": [
        "# Loss Graph\n",
        "epochs = range(1, len(loss)+1)\n",
        "\n",
        "plt.plot(epochs, loss, 'ko', label='Training loss')\n",
        "plt.plot(epochs, val_loss, 'g-', label='Validataion loss')\n",
        "plt.title('Training and Validation loss')\n",
        "plt.xlabel('Epochs')\n",
        "plt.ylabel('Loss')\n",
        "plt.legend()"
      ],
      "metadata": {
        "colab": {
          "base_uri": "https://localhost:8080/",
          "height": 489
        },
        "id": "AJC6-_qUpCCr",
        "outputId": "447def4c-3e14-45dd-9f78-f8f0646a0326"
      },
      "execution_count": 13,
      "outputs": [
        {
          "output_type": "execute_result",
          "data": {
            "text/plain": [
              "<matplotlib.legend.Legend at 0x7fa79eaeb460>"
            ]
          },
          "metadata": {},
          "execution_count": 13
        },
        {
          "output_type": "display_data",
          "data": {
            "text/plain": [
              "<Figure size 640x480 with 1 Axes>"
            ],
            "image/png": "[encoded data removed]"
          },
          "metadata": {}
        }
      ]
    },
    {
      "cell_type": "code",
      "source": [
        "# Accuracy graph\n",
        "plt.plot(epochs, acc, 'ro', label='Training accuracy')\n",
        "plt.plot(epochs, val_acc, 'k-', label='Validataion accuracy')\n",
        "plt.title('Training and Validation accuracy')\n",
        "plt.xlabel('Epochs')\n",
        "plt.ylabel('accuracy')\n",
        "plt.legend()"
      ],
      "metadata": {
        "colab": {
          "base_uri": "https://localhost:8080/",
          "height": 489
        },
        "id": "r_s5GvcLp-w-",
        "outputId": "b8f3edef-fdf6-4540-ddab-63ba02e3e713"
      },
      "execution_count": 14,
      "outputs": [
        {
          "output_type": "execute_result",
          "data": {
            "text/plain": [
              "<matplotlib.legend.Legend at 0x7fa79ea5d5a0>"
            ]
          },
          "metadata": {},
          "execution_count": 14
        },
        {
          "output_type": "display_data",
          "data": {
            "text/plain": [
              "<Figure size 640x480 with 1 Axes>"
            ],
            "image/png": "[encoded data removed]"
          },
          "metadata": {}
        }
      ]
    },
    {
      "cell_type": "code",
      "source": [
        "# 신경망(모델) 재구성 후 검증된 결과를 바탕으로 재학습\n",
        "model = models.Sequential()\n",
        "model.add(layers.Dense(64, activation='relu', input_shape=(10000, )))\n",
        "model.add(layers.Dense(64, activation='relu'))\n",
        "model.add(layers.Dense(46, activation='softmax'))\n",
        "\n",
        "model.compile(optimizer='rmsprop', loss='categorical_crossentropy', metrics=['accuracy'])\n",
        "\n",
        "history = model.fit(partial_x_train, partial_y_train, epochs=9, batch_size=1024, validation_data=(x_val, y_val))\n",
        "\n",
        "eval_result = model.evaluate(x_test, one_hot_test_labels)\n",
        "eval_loss = eval_result[0]\n",
        "eval_acc = eval_result[1]\n",
        "\n",
        "print('-------------------------------------')\n",
        "print('Evaluate Loss : {0:.4f}, Evaluate Accuracy : {1:.4f}'.format(eval_loss, eval_acc))"
      ],
      "metadata": {
        "colab": {
          "base_uri": "https://localhost:8080/"
        },
        "id": "DhFdH_fSrWrl",
        "outputId": "df46569e-5f81-4cea-8cf8-b0cf253e2f5d"
      },
      "execution_count": 15,
      "outputs": [
        {
          "output_type": "stream",
          "name": "stdout",
          "text": [
            "Epoch 1/9\n",
            "8/8 [==============================] - 3s 242ms/step - loss: 3.3431 - accuracy: 0.3077 - val_loss: 2.6524 - val_accuracy: 0.4960\n",
            "Epoch 2/9\n",
            "8/8 [==============================] - 1s 140ms/step - loss: 2.2272 - accuracy: 0.5778 - val_loss: 1.8688 - val_accuracy: 0.6290\n",
            "Epoch 3/9\n",
            "8/8 [==============================] - 1s 133ms/step - loss: 1.6402 - accuracy: 0.6728 - val_loss: 1.5260 - val_accuracy: 0.6790\n",
            "Epoch 4/9\n",
            "8/8 [==============================] - 1s 128ms/step - loss: 1.3449 - accuracy: 0.7150 - val_loss: 1.3346 - val_accuracy: 0.7080\n",
            "Epoch 5/9\n",
            "8/8 [==============================] - 1s 130ms/step - loss: 1.1574 - accuracy: 0.7493 - val_loss: 1.2196 - val_accuracy: 0.7240\n",
            "Epoch 6/9\n",
            "8/8 [==============================] - 1s 119ms/step - loss: 1.0235 - accuracy: 0.7730 - val_loss: 1.1358 - val_accuracy: 0.7490\n",
            "Epoch 7/9\n",
            "8/8 [==============================] - 1s 119ms/step - loss: 0.9009 - accuracy: 0.8038 - val_loss: 1.0829 - val_accuracy: 0.7610\n",
            "Epoch 8/9\n",
            "8/8 [==============================] - 1s 128ms/step - loss: 0.8057 - accuracy: 0.8275 - val_loss: 1.0432 - val_accuracy: 0.7770\n",
            "Epoch 9/9\n",
            "8/8 [==============================] - 1s 113ms/step - loss: 0.7171 - accuracy: 0.8479 - val_loss: 0.9957 - val_accuracy: 0.7910\n",
            "71/71 [==============================] - 0s 4ms/step - loss: 1.0625 - accuracy: 0.7609\n",
            "-------------------------------------\n",
            "Evaluate Loss : 1.0625, Evaluate Accuracy : 0.7609\n"
          ]
        }
      ]
    },
    {
      "cell_type": "markdown",
      "source": [
        "# Boston Housing K-fold validation and Regression\n",
        "* 데이터 양이 얼마 없을 때 폴드 별로 전체 데이터를 검증, 학습용 데이터로 번갈아가며 나누어서 반복학습한다.\n",
        "- 데이터를 바꿔가며 반복학습하기 때문에 학습 전에 신경망을 초기화해주는 작업이 필요하다."
      ],
      "metadata": {
        "id": "poGAkrdjYrNE"
      }
    },
    {
      "cell_type": "code",
      "source": [
        "from keras.datasets import boston_housing\n",
        "(train_data, train_labels), (test_data, test_labels) = boston_housing.load_data()"
      ],
      "metadata": {
        "colab": {
          "base_uri": "https://localhost:8080/"
        },
        "id": "GC4vPdX-YrSa",
        "outputId": "455857ba-f353-4397-a5ff-2c0cc0b69754"
      },
      "execution_count": 16,
      "outputs": [
        {
          "output_type": "stream",
          "name": "stdout",
          "text": [
            "Downloading data from https://storage.googleapis.com/tensorflow/tf-keras-datasets/boston_housing.npz\n",
            "57026/57026 [==============================] - 0s 0us/step\n"
          ]
        }
      ]
    },
    {
      "cell_type": "code",
      "source": [
        "# 데이터의 모양을 확인\n",
        "print(train_data.shape)\n",
        "print(test_data.shape)"
      ],
      "metadata": {
        "colab": {
          "base_uri": "https://localhost:8080/"
        },
        "id": "F_x8B-8IN_yb",
        "outputId": "98a52fc0-7027-4a9d-e42c-12aaae57a38e"
      },
      "execution_count": 17,
      "outputs": [
        {
          "output_type": "stream",
          "name": "stdout",
          "text": [
            "(404, 13)\n",
            "(102, 13)\n"
          ]
        }
      ]
    },
    {
      "cell_type": "code",
      "source": [
        "print(train_data[0])"
      ],
      "metadata": {
        "colab": {
          "base_uri": "https://localhost:8080/"
        },
        "id": "FjVpm9OiOQTV",
        "outputId": "1633f68f-10d5-4f85-c530-02186e8b3b6f"
      },
      "execution_count": 18,
      "outputs": [
        {
          "output_type": "stream",
          "name": "stdout",
          "text": [
            "[  1.23247   0.        8.14      0.        0.538     6.142    91.7\n",
            "   3.9769    4.      307.       21.      396.9      18.72   ]\n"
          ]
        }
      ]
    },
    {
      "cell_type": "code",
      "source": [
        "print(train_labels[0])"
      ],
      "metadata": {
        "colab": {
          "base_uri": "https://localhost:8080/"
        },
        "id": "zSMZI53bOjCY",
        "outputId": "00d13547-4194-442e-d7cc-c0fbe049a1a3"
      },
      "execution_count": 19,
      "outputs": [
        {
          "output_type": "stream",
          "name": "stdout",
          "text": [
            "15.2\n"
          ]
        }
      ]
    },
    {
      "cell_type": "code",
      "source": [
        "# 데이터 전처리 (함수 이용x, 직접 스케일링) (스케일링(standard scaling))\n",
        "# 표준편차나 이런 지표들을 확인하기위해서 전체 데이터를 확인하는 과정이 필요함\n",
        "# 학습용 데이터 전체의 평균값을 확인하고\n",
        "# 0번축을 기준으로 각 Column의 평균치를 뽑아내기\n",
        "mean = train_data.mean(axis=0)\n",
        "\n",
        "# 학습용 데이터 전체에서 평균치를 빼기\n",
        "train_data -= mean   # train_data = train_data - mean 과 같은 식\n",
        "\n",
        "# 표준편차 구하기(각 Column별로=(axis=0))\n",
        "std = train_data.std(axis=0)\n",
        "\n",
        "# 학습용 데이터를 표준편차로 나누기\n",
        "train_data /= std\n",
        "\n",
        "train_data[0]"
      ],
      "metadata": {
        "colab": {
          "base_uri": "https://localhost:8080/"
        },
        "id": "OlRMr364OQcq",
        "outputId": "f943e604-1239-4dbf-ae22-198b8bbea7ca"
      },
      "execution_count": 32,
      "outputs": [
        {
          "output_type": "execute_result",
          "data": {
            "text/plain": [
              "array([-0.27224633, -0.48361547, -0.43576161, -0.25683275, -0.1652266 ,\n",
              "       -0.1764426 ,  0.81306188,  0.1166983 , -0.62624905, -0.59517003,\n",
              "        1.14850044,  0.44807713,  0.8252202 ])"
            ]
          },
          "metadata": {},
          "execution_count": 32
        }
      ]
    },
    {
      "cell_type": "code",
      "source": [
        "# 모델 구성\n",
        "from keras import models\n",
        "from keras import layers\n",
        "\n",
        "def build_model():              # 호출할 때마다 모델을 동작하는 함수 정의 \n",
        "  model = models.Sequential()\n",
        "  model.add(layers.Dense(64, activation='relu', input_shape=(train_data.shape[1], )))\n",
        "  model.add(layers.Dense(64, activation='relu'))\n",
        "  model.add(layers.Dense(1))     # Regression 문제는 활성화 함수를 항등함수를 쓰기 때문에 함수 지정을 해주지 않아도 된다.\n",
        "\n",
        "  # Mean Squared Error를 손실 함수 지정\n",
        "  model.compile(optimizer='rmsprop', loss='mse', metrics=['mse'])\n",
        "  return model           "
      ],
      "metadata": {
        "id": "Q5I8_ja0OQk5"
      },
      "execution_count": 33,
      "outputs": []
    },
    {
      "cell_type": "code",
      "source": [
        "# K-Fold Validation\n",
        "import numpy as np\n",
        "# fold를 몇 개로 나눌 건지 지정\n",
        "k = 4\n",
        "num_val_samples = len(train_data) // k   # 한 folder의 데이터 수를 지정\n",
        "all_scores = []                                    # 리스트 객체\n",
        "\n",
        "for i in range(k):\n",
        "  print('처리중인 폴드 #', i)\n",
        "\n",
        "  # 처리할 데이터를 뽑아내는 작업\n",
        "  # 검증 데이터 준비\n",
        "  val_data = train_data[i * num_val_samples:(i + 1) * num_val_samples]\n",
        "  val_labels = train_labels[i * num_val_samples:(i + 1) * num_val_samples]\n",
        "\n",
        "  # 학습 데이터 준비\n",
        "  data1 = train_data[:i * num_val_samples]\n",
        "  data2 = train_data[(i + 1) * num_val_samples:]\n",
        "  data1_labels = train_labels[:i * num_val_samples]\n",
        "  data2_labels = train_labels[(i + 1) * num_val_samples:]\n",
        "\n",
        "  partial_train_data = np.concatenate([data1, data2], axis=0)\n",
        "  partial_train_labels = np.concatenate([data1_labels, data2_labels], axis=0)\n",
        "\n",
        "  # 위에서 만들었던 함수를 호출하여 모델 불러오기\n",
        "  model = build_model()\n",
        "  model.summary()\n",
        "  # 모델 학습\n",
        "  # verbose=0 옵션으로 진행상황 미출력\n",
        "  model.fit(partial_train_data, partial_train_labels, epochs=500, batch_size=128, verbose=0)\n",
        "\n",
        "  # 모델 검증(평균제곱오차, 평균절대오차)\n",
        "  val_mse, val_mae = model.evaluate(val_data, val_labels)\n",
        "  print('Validation Mean Squared Error : {0:.4f}, Validation Mean Absolute Error : {1:.4f}'.format(val_mse, val_mae))\n",
        "  # 결과 저장\n",
        "  all_scores.append(val_mae)"
      ],
      "metadata": {
        "colab": {
          "base_uri": "https://localhost:8080/"
        },
        "id": "GO-a9OdZUE8P",
        "outputId": "3ee6e32c-cc1e-4b7b-9f80-585f971d8b54"
      },
      "execution_count": 37,
      "outputs": [
        {
          "output_type": "stream",
          "name": "stdout",
          "text": [
            "처리중인 폴드 # 0\n",
            "Model: \"sequential_35\"\n",
            "_________________________________________________________________\n",
            " Layer (type)                Output Shape              Param #   \n",
            "=================================================================\n",
            " dense_105 (Dense)           (None, 64)                896       \n",
            "                                                                 \n",
            " dense_106 (Dense)           (None, 64)                4160      \n",
            "                                                                 \n",
            " dense_107 (Dense)           (None, 1)                 65        \n",
            "                                                                 \n",
            "=================================================================\n",
            "Total params: 5,121\n",
            "Trainable params: 5,121\n",
            "Non-trainable params: 0\n",
            "_________________________________________________________________\n",
            "4/4 [==============================] - 0s 5ms/step - loss: 7.1031 - mse: 7.1031\n",
            "Validation Mean Squared Error : 7.1031, Validation Mean Absolute Error : 7.1031\n",
            "처리중인 폴드 # 1\n",
            "Model: \"sequential_36\"\n",
            "_________________________________________________________________\n",
            " Layer (type)                Output Shape              Param #   \n",
            "=================================================================\n",
            " dense_108 (Dense)           (None, 64)                896       \n",
            "                                                                 \n",
            " dense_109 (Dense)           (None, 64)                4160      \n",
            "                                                                 \n",
            " dense_110 (Dense)           (None, 1)                 65        \n",
            "                                                                 \n",
            "=================================================================\n",
            "Total params: 5,121\n",
            "Trainable params: 5,121\n",
            "Non-trainable params: 0\n",
            "_________________________________________________________________\n",
            "4/4 [==============================] - 0s 4ms/step - loss: 9.6301 - mse: 9.6301\n",
            "Validation Mean Squared Error : 9.6301, Validation Mean Absolute Error : 9.6301\n",
            "처리중인 폴드 # 2\n",
            "Model: \"sequential_37\"\n",
            "_________________________________________________________________\n",
            " Layer (type)                Output Shape              Param #   \n",
            "=================================================================\n",
            " dense_111 (Dense)           (None, 64)                896       \n",
            "                                                                 \n",
            " dense_112 (Dense)           (None, 64)                4160      \n",
            "                                                                 \n",
            " dense_113 (Dense)           (None, 1)                 65        \n",
            "                                                                 \n",
            "=================================================================\n",
            "Total params: 5,121\n",
            "Trainable params: 5,121\n",
            "Non-trainable params: 0\n",
            "_________________________________________________________________\n",
            "4/4 [==============================] - 0s 4ms/step - loss: 11.8799 - mse: 11.8799\n",
            "Validation Mean Squared Error : 11.8799, Validation Mean Absolute Error : 11.8799\n",
            "처리중인 폴드 # 3\n",
            "Model: \"sequential_38\"\n",
            "_________________________________________________________________\n",
            " Layer (type)                Output Shape              Param #   \n",
            "=================================================================\n",
            " dense_114 (Dense)           (None, 64)                896       \n",
            "                                                                 \n",
            " dense_115 (Dense)           (None, 64)                4160      \n",
            "                                                                 \n",
            " dense_116 (Dense)           (None, 1)                 65        \n",
            "                                                                 \n",
            "=================================================================\n",
            "Total params: 5,121\n",
            "Trainable params: 5,121\n",
            "Non-trainable params: 0\n",
            "_________________________________________________________________\n",
            "4/4 [==============================] - 0s 5ms/step - loss: 13.1797 - mse: 13.1797\n",
            "Validation Mean Squared Error : 13.1797, Validation Mean Absolute Error : 13.1797\n"
          ]
        }
      ]
    },
    {
      "cell_type": "code",
      "source": [
        "# 평균 오차 확인\n",
        "np.mean(all_scores)"
      ],
      "metadata": {
        "colab": {
          "base_uri": "https://localhost:8080/"
        },
        "id": "r5WQ2riHpM3k",
        "outputId": "474a4393-7231-473a-d32d-12558b1a13fd"
      },
      "execution_count": 38,
      "outputs": [
        {
          "output_type": "execute_result",
          "data": {
            "text/plain": [
              "10.448184967041016"
            ]
          },
          "metadata": {},
          "execution_count": 38
        }
      ]
    },
    {
      "cell_type": "markdown",
      "source": [
        "# CNN(Convolutional Neural Network): 합성곱 신경망\n",
        "* 이미지를 인식하기위한 패턴을 찾는데 유용하다."
      ],
      "metadata": {
        "id": "A0uYZ0iutj6o"
      }
    },
    {
      "cell_type": "code",
      "source": [
        "from keras import models\n",
        "from keras import layers\n",
        "\n",
        "model = models.Sequential()\n",
        "model.add(layers.Conv2D(32, (3, 3), activation='relu', input_shape=(28, 28, 1)))\n",
        "model.add(layers.MaxPooling2D(2, 2))\n",
        "model.add(layers.Conv2D(32, (3, 3), activation='relu', input_shape=(28, 28, 1)))\n",
        "model.add(layers.MaxPooling2D(2, 2))\n",
        "model.add(layers.Conv2D(32, (3, 3), activation='relu', input_shape=(28, 28, 1)))\n",
        "model.add(layers.MaxPooling2D(2, 2))"
      ],
      "metadata": {
        "id": "ihHfelw8ujHq"
      },
      "execution_count": 39,
      "outputs": []
    },
    {
      "cell_type": "code",
      "source": [
        "model.summary()"
      ],
      "metadata": {
        "colab": {
          "base_uri": "https://localhost:8080/"
        },
        "id": "YuzJx248v6Ow",
        "outputId": "051a7dc9-8ad6-4cc3-dde8-3193a6b17a92"
      },
      "execution_count": 40,
      "outputs": [
        {
          "output_type": "stream",
          "name": "stdout",
          "text": [
            "Model: \"sequential_39\"\n",
            "_________________________________________________________________\n",
            " Layer (type)                Output Shape              Param #   \n",
            "=================================================================\n",
            " conv2d (Conv2D)             (None, 26, 26, 32)        320       \n",
            "                                                                 \n",
            " max_pooling2d (MaxPooling2D  (None, 13, 13, 32)       0         \n",
            " )                                                               \n",
            "                                                                 \n",
            " conv2d_1 (Conv2D)           (None, 11, 11, 32)        9248      \n",
            "                                                                 \n",
            " max_pooling2d_1 (MaxPooling  (None, 5, 5, 32)         0         \n",
            " 2D)                                                             \n",
            "                                                                 \n",
            " conv2d_2 (Conv2D)           (None, 3, 3, 32)          9248      \n",
            "                                                                 \n",
            " max_pooling2d_2 (MaxPooling  (None, 1, 1, 32)         0         \n",
            " 2D)                                                             \n",
            "                                                                 \n",
            "=================================================================\n",
            "Total params: 18,816\n",
            "Trainable params: 18,816\n",
            "Non-trainable params: 0\n",
            "_________________________________________________________________\n"
          ]
        }
      ]
    },
    {
      "cell_type": "code",
      "source": [
        "model.add(layers.Flatten())\n",
        "model.add(layers.Dense(64, activation='relu'))\n",
        "model.add(layers.Dense(10, activation='softmax'))"
      ],
      "metadata": {
        "id": "eKk_IHZxujV-"
      },
      "execution_count": 41,
      "outputs": []
    },
    {
      "cell_type": "code",
      "source": [
        "model.summary()"
      ],
      "metadata": {
        "colab": {
          "base_uri": "https://localhost:8080/"
        },
        "id": "9gZhYrWPujhb",
        "outputId": "7f948492-ccea-4586-bc49-65461d4b0595"
      },
      "execution_count": 42,
      "outputs": [
        {
          "output_type": "stream",
          "name": "stdout",
          "text": [
            "Model: \"sequential_39\"\n",
            "_________________________________________________________________\n",
            " Layer (type)                Output Shape              Param #   \n",
            "=================================================================\n",
            " conv2d (Conv2D)             (None, 26, 26, 32)        320       \n",
            "                                                                 \n",
            " max_pooling2d (MaxPooling2D  (None, 13, 13, 32)       0         \n",
            " )                                                               \n",
            "                                                                 \n",
            " conv2d_1 (Conv2D)           (None, 11, 11, 32)        9248      \n",
            "                                                                 \n",
            " max_pooling2d_1 (MaxPooling  (None, 5, 5, 32)         0         \n",
            " 2D)                                                             \n",
            "                                                                 \n",
            " conv2d_2 (Conv2D)           (None, 3, 3, 32)          9248      \n",
            "                                                                 \n",
            " max_pooling2d_2 (MaxPooling  (None, 1, 1, 32)         0         \n",
            " 2D)                                                             \n",
            "                                                                 \n",
            " flatten (Flatten)           (None, 32)                0         \n",
            "                                                                 \n",
            " dense_117 (Dense)           (None, 64)                2112      \n",
            "                                                                 \n",
            " dense_118 (Dense)           (None, 10)                650       \n",
            "                                                                 \n",
            "=================================================================\n",
            "Total params: 21,578\n",
            "Trainable params: 21,578\n",
            "Non-trainable params: 0\n",
            "_________________________________________________________________\n"
          ]
        }
      ]
    },
    {
      "cell_type": "code",
      "source": [
        "from keras.datasets import mnist\n",
        "from tensorflow.keras.utils import to_categorical\n",
        "\n",
        "(train_images, train_labels), (test_images, test_labels) = mnist.load_data()\n",
        "\n",
        "# 데이터 스케일링\n",
        "train_data = train_images.reshape((60000, 28, 28, 1))\n",
        "train_data = train_data.astype('float32') / 255\n",
        "\n",
        "test_data = test_images.reshape((10000, 28, 28, 1))\n",
        "test_data = test_images.astype('float32') / 255\n",
        "\n",
        "train_target = to_categorical(train_labels)\n",
        "test_target = to_categorical(test_labels)"
      ],
      "metadata": {
        "colab": {
          "base_uri": "https://localhost:8080/"
        },
        "id": "KYkBAKmAujrG",
        "outputId": "2cbc6611-9123-49ff-e737-5764729022b3"
      },
      "execution_count": 43,
      "outputs": [
        {
          "output_type": "stream",
          "name": "stdout",
          "text": [
            "Downloading data from https://storage.googleapis.com/tensorflow/tf-keras-datasets/mnist.npz\n",
            "11490434/11490434 [==============================] - 0s 0us/step\n"
          ]
        }
      ]
    },
    {
      "cell_type": "code",
      "source": [
        "model.compile(optimizer='rmsprop', loss='categorical_crossentropy', metrics=['accuracy'])\n",
        "model.fit(train_data, train_target, epochs=5, batch_size=256)"
      ],
      "metadata": {
        "colab": {
          "base_uri": "https://localhost:8080/"
        },
        "id": "dNdgqO4VwHc9",
        "outputId": "a96dbeff-dc59-4b47-993f-2257a07c5358"
      },
      "execution_count": 44,
      "outputs": [
        {
          "output_type": "stream",
          "name": "stdout",
          "text": [
            "Epoch 1/5\n",
            "235/235 [==============================] - 49s 200ms/step - loss: 0.7129 - accuracy: 0.7790\n",
            "Epoch 2/5\n",
            "235/235 [==============================] - 45s 191ms/step - loss: 0.2111 - accuracy: 0.9355\n",
            "Epoch 3/5\n",
            "235/235 [==============================] - 44s 189ms/step - loss: 0.1365 - accuracy: 0.9585\n",
            "Epoch 4/5\n",
            "235/235 [==============================] - 42s 181ms/step - loss: 0.1006 - accuracy: 0.9693\n",
            "Epoch 5/5\n",
            "235/235 [==============================] - 43s 184ms/step - loss: 0.0826 - accuracy: 0.9743\n"
          ]
        },
        {
          "output_type": "execute_result",
          "data": {
            "text/plain": [
              "<keras.callbacks.History at 0x7fa79ccedff0>"
            ]
          },
          "metadata": {},
          "execution_count": 44
        }
      ]
    },
    {
      "cell_type": "code",
      "source": [
        "# 평가\n",
        "test_loss, test_acc = model.evaluate(test_data, test_target)"
      ],
      "metadata": {
        "colab": {
          "base_uri": "https://localhost:8080/"
        },
        "id": "XuAFFVSzwHqH",
        "outputId": "7df81a40-ef31-4ce0-88f3-03e4a06bf2e8"
      },
      "execution_count": 45,
      "outputs": [
        {
          "output_type": "stream",
          "name": "stdout",
          "text": [
            "313/313 [==============================] - 3s 10ms/step - loss: 0.1129 - accuracy: 0.9652\n"
          ]
        }
      ]
    }
  ]
}